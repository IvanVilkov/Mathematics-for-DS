{
  "nbformat": 4,
  "nbformat_minor": 0,
  "metadata": {
    "colab": {
      "name": "ДЗ 9. Теория вероятности и мат. статистика",
      "provenance": [],
      "collapsed_sections": []
    },
    "kernelspec": {
      "name": "python3",
      "display_name": "Python 3"
    }
  },
  "cells": [
    {
      "cell_type": "markdown",
      "metadata": {
        "id": "vN_0Eh6V8ZwE"
      },
      "source": [
        "**Light**"
      ]
    },
    {
      "cell_type": "markdown",
      "metadata": {
        "id": "sRkt77ZA8Z5w"
      },
      "source": [
        "Задача 1\n",
        "\n",
        "В магазин поступило 30 холодильников, пять из которых имеют заводской дефект. Случайным образом выбирают один холодильник. Какова вероятность того, что он будет без дефекта?\n",
        "\n"
      ]
    },
    {
      "cell_type": "code",
      "metadata": {
        "id": "S-yA4fW3uhD0"
      },
      "source": [
        "def P(m,n):\n",
        "  P=m/n\n",
        "  return P\n",
        "\n",
        "def P_(n):\n",
        "  P_=1\n",
        "  for i in range(1,n+1):\n",
        "    P_*=i\n",
        "  return P_\n",
        "\n",
        "def P_rep(m,n):\n",
        "  rep = 1\n",
        "  for x in m:\n",
        "    rep*=P_(x)\n",
        "  return P_(n)/rep\n",
        "\n",
        "def C(m,n):\n",
        "  C=P_(n)/(P_(n-m)*P_(m))\n",
        "  return C"
      ],
      "execution_count": null,
      "outputs": []
    },
    {
      "cell_type": "code",
      "metadata": {
        "id": "_tXAsAR0q2mG",
        "colab": {
          "base_uri": "https://localhost:8080/",
          "height": 34
        },
        "outputId": "14f69e30-3c0c-4093-e7ab-680af723a1f5"
      },
      "source": [
        "print('Вероятность того, что выбранный холодильник будет без дефекта ',P(25,30))"
      ],
      "execution_count": null,
      "outputs": [
        {
          "output_type": "stream",
          "text": [
            "Вероятность того, что выбранный холодильник будет без дефекта  0.8333333333333334\n"
          ],
          "name": "stdout"
        }
      ]
    },
    {
      "cell_type": "markdown",
      "metadata": {
        "id": "siUB94aa8aBh"
      },
      "source": [
        "Задача 2\n",
        "\n",
        "Абонент забыл пин-код к своей сим-карте, однако помнит, что он содержит три «пятёрки», а одна из цифр – то ли «семёрка», то ли «восьмёрка». Какова вероятность успешной авторизации с первой попытки?(три пятерки не обязательно идут подряд)"
      ]
    },
    {
      "cell_type": "code",
      "metadata": {
        "id": "Y-Fr8sGpuhmi",
        "colab": {
          "base_uri": "https://localhost:8080/",
          "height": 34
        },
        "outputId": "cab9c7e7-3192-42a9-be25-22d5adf08041"
      },
      "source": [
        "a=[3,1] # пин-код, в котором \"5\" повторяется 3 раза и вторая цифра один раз\n",
        "print('вероятность успешной авторизации с первой попытки ',P(1,P_rep(a,4)*2))"
      ],
      "execution_count": null,
      "outputs": [
        {
          "output_type": "stream",
          "text": [
            "вероятность успешной авторизации с первой попытки  0.125\n"
          ],
          "name": "stdout"
        }
      ]
    },
    {
      "cell_type": "markdown",
      "metadata": {
        "id": "jso4N3osCw3r"
      },
      "source": [
        "Задача 3\n",
        "\n",
        "Найти вероятность того, что при броске двух игральных костей произведение очков:\n",
        "\n",
        "a) будет равно 6;\n",
        "b) окажется не менее 33;\n",
        "c) будет чётным."
      ]
    },
    {
      "cell_type": "code",
      "metadata": {
        "id": "dlQJ8aNPuiVB",
        "colab": {
          "base_uri": "https://localhost:8080/",
          "height": 68
        },
        "outputId": "79e2cd53-6a14-4cf9-f177-c190abb0bb40"
      },
      "source": [
        "a=0\n",
        "b=0\n",
        "c=0\n",
        "for i in range(1,7):\n",
        "  for j in range(1,7):\n",
        "    if i*j==6:\n",
        "      a+=1\n",
        "    if i*j>=33:\n",
        "      b+=1\n",
        "    if (i*j)%2==0:\n",
        "      c+=1\n",
        "\n",
        "print('Вероятность того, что при броске двух игральных костей произведение очков будет равно 6 сотавляет ', P(a,36))\n",
        "print('Вероятность того, что при броске двух игральных костей произведение очков окажется не менее 33 сотавляет ', P(b,36))\n",
        "print('Вероятность того, что при броске двух игральных костей произведение очков будет чётным сотавляет ', P(c,36))"
      ],
      "execution_count": null,
      "outputs": [
        {
          "output_type": "stream",
          "text": [
            "Вероятность того, что при броске двух игральных костей произведение очков будет равно 6 сотавляет  0.1111111111111111\n",
            "Вероятность того, что при броске двух игральных костей произведение очков окажется не менее 33 сотавляет  0.027777777777777776\n",
            "Вероятность того, что при броске двух игральных костей произведение очков будет чётным сотавляет  0.75\n"
          ],
          "name": "stdout"
        }
      ]
    },
    {
      "cell_type": "markdown",
      "metadata": {
        "id": "SKroFk3KjJ0C"
      },
      "source": [
        "Задача 4\n",
        "\n",
        "В коробке 12 красных и 8 синих пуговиц. Наудачу извлекаются две пуговицы. Какова вероятность того, что они будут одноцветными?"
      ]
    },
    {
      "cell_type": "code",
      "metadata": {
        "id": "G9DMCizbui-R",
        "colab": {
          "base_uri": "https://localhost:8080/",
          "height": 34
        },
        "outputId": "cc0cfaac-3200-427d-c3ba-6c2b5c29c9de"
      },
      "source": [
        "print('Вероятность того, что пуговицы будут одноцветными составляет ', P(12,20)**2+P(8,20)**2+P(12,20)*P(8,20))"
      ],
      "execution_count": null,
      "outputs": [
        {
          "output_type": "stream",
          "text": [
            "Вероятность того, что пуговицы будут одноцветными составляет  0.76\n"
          ],
          "name": "stdout"
        }
      ]
    },
    {
      "cell_type": "code",
      "metadata": {
        "id": "fFIy6-02dUHl",
        "colab": {
          "base_uri": "https://localhost:8080/",
          "height": 34
        },
        "outputId": "951494fe-340d-4c42-8b26-abbf076f5bb4"
      },
      "source": [
        "C(1,12)*C(1,8)/C(2,20)**2"
      ],
      "execution_count": null,
      "outputs": [
        {
          "output_type": "execute_result",
          "data": {
            "text/plain": [
              "0.002659279778393352"
            ]
          },
          "metadata": {
            "tags": []
          },
          "execution_count": 8
        }
      ]
    },
    {
      "cell_type": "markdown",
      "metadata": {
        "id": "Df5ze-wYl5VM"
      },
      "source": [
        "Задача 5\n",
        "\n",
        "Стрелок попадает в цель с одной и той же вероятностью при каждом выстреле. Какова эта вероятность, если вероятность хотя бы одного попадания при трех выстрелах равна 0,861."
      ]
    },
    {
      "cell_type": "code",
      "metadata": {
        "id": "vDC0dv3Iuh7e",
        "colab": {
          "base_uri": "https://localhost:8080/",
          "height": 34
        },
        "outputId": "ef436129-e021-4a02-961e-ae14008597bd"
      },
      "source": [
        "# P1 - вероятность попадания в цель\n",
        "# P2 - вероятность m попаданий из n выстрелов \n",
        "# P2=(n*P1)/m\n",
        "# P1=P2*m/n\n",
        "P1=0.861*1/3\n",
        "P1"
      ],
      "execution_count": null,
      "outputs": [
        {
          "output_type": "execute_result",
          "data": {
            "text/plain": [
              "0.287"
            ]
          },
          "metadata": {
            "tags": []
          },
          "execution_count": 26
        }
      ]
    },
    {
      "cell_type": "markdown",
      "metadata": {
        "id": "uzR46A52gQB7"
      },
      "source": [
        "Задача 6\n",
        "\n",
        "Подбрасывается 20 монет. Найти вероятность того, что:\n",
        "\n",
        "а) на всех монетах выпадет орёл;\n",
        "\n",
        "б) орёл выпадет КАК МИНИМУМ на половине монет. (для решения этой части используйте формулу Бернулли)"
      ]
    },
    {
      "cell_type": "code",
      "metadata": {
        "id": "pM8390gsujVQ",
        "colab": {
          "base_uri": "https://localhost:8080/",
          "height": 34
        },
        "outputId": "aaebf722-87f8-40b5-8e46-2eae3bec46cd"
      },
      "source": [
        "P_a=0.5**20\n",
        "print(P_a)"
      ],
      "execution_count": null,
      "outputs": [
        {
          "output_type": "stream",
          "text": [
            "9.5367431640625e-07\n"
          ],
          "name": "stdout"
        }
      ]
    },
    {
      "cell_type": "code",
      "metadata": {
        "id": "jnVTDbkBpZuk",
        "colab": {
          "base_uri": "https://localhost:8080/",
          "height": 34
        },
        "outputId": "61af558a-cbe0-4a32-dbf9-86ad63a003ae"
      },
      "source": [
        "# Формула Бернулли. Вероятность того, что событие А наступит k раз при n независимых испытаний:\n",
        "# P=C*(p**k)*(q**(n-k)), где С - количество сочетаний из n по k\n",
        "#                     p - постоянная вероятность наступления события А\n",
        "#                     q=1-p - постоянная вероятность ненаступления события А\n",
        "P_b=C(10,20)*0.5**10*0.5**10\n",
        "P_b"
      ],
      "execution_count": null,
      "outputs": [
        {
          "output_type": "execute_result",
          "data": {
            "text/plain": [
              "0.17619705200195312"
            ]
          },
          "metadata": {
            "tags": []
          },
          "execution_count": 35
        }
      ]
    },
    {
      "cell_type": "markdown",
      "metadata": {
        "id": "ItZzk_cHgxtK"
      },
      "source": [
        "**PRO**"
      ]
    },
    {
      "cell_type": "markdown",
      "metadata": {
        "id": "FzeTlcXjg_aK"
      },
      "source": [
        "Задача 1\n",
        "\n",
        "На восьмиместную круглую скамейку случайным образом рассаживается 8 человек. \n",
        "\n",
        "Какова вероятность того, что два определённых человека окажутся рядом?"
      ]
    },
    {
      "cell_type": "code",
      "metadata": {
        "id": "PSO_PGyauley",
        "colab": {
          "base_uri": "https://localhost:8080/",
          "height": 34
        },
        "outputId": "85c80f6b-d727-463c-d6a7-a0146cf8c092"
      },
      "source": [
        "A=P_(8)/P_(8-2) # Количество вариантов рассадки для 2х человек\n",
        "B=16 # Количество вариантов, когда люди рядом\n",
        "P(B,A)"
      ],
      "execution_count": null,
      "outputs": [
        {
          "output_type": "execute_result",
          "data": {
            "text/plain": [
              "0.2857142857142857"
            ]
          },
          "metadata": {
            "tags": []
          },
          "execution_count": 24
        }
      ]
    },
    {
      "cell_type": "markdown",
      "metadata": {
        "id": "joYCsCrAhCMS"
      },
      "source": [
        "Задача 2\n",
        "\n",
        "На шахматную доску из 64 клеток ставят наудачу две ладьи, белого и чёрного цвета. С какой вероятностью они будут «бить» друг друга?"
      ]
    },
    {
      "cell_type": "code",
      "metadata": {
        "id": "Vgxnmy3tul2O",
        "colab": {
          "base_uri": "https://localhost:8080/",
          "height": 34
        },
        "outputId": "891ef82c-f4fb-4ee9-9531-2c0666789851"
      },
      "source": [
        "A=P_(64)/P_(64-2)   # Всего возможных вариантов расстановки\n",
        "B=P_(8)/P_(8-2)*8*2 # Количество удовлетворяющих результатов (либо обе фигуры по горизонтали, либо по вертикали)\n",
        "print('Вероятность, что две ладьи окажутся \"друг напротив друга\", составляет ',P(B,A))"
      ],
      "execution_count": null,
      "outputs": [
        {
          "output_type": "stream",
          "text": [
            "Вероятность, что две ладьи окажутся \"друг напротив друга\", составляет  0.2222222222222222\n"
          ],
          "name": "stdout"
        }
      ]
    },
    {
      "cell_type": "markdown",
      "metadata": {
        "id": "T5Ktv4e8hT5w"
      },
      "source": [
        "Задача 3\n",
        "\n",
        "Какова вероятность того, что в 5 сданных картах будет один туз и один король?(колода 36 карт)"
      ]
    },
    {
      "cell_type": "code",
      "metadata": {
        "id": "tn-jed6YumMg",
        "colab": {
          "base_uri": "https://localhost:8080/",
          "height": 34
        },
        "outputId": "ea319827-ef97-46e3-e058-2d7fa9ad972e"
      },
      "source": [
        "P_a_k=P(4,36) # Вероятность одного туза в колоде равна вероятности одного короля\n",
        "P_a_k_5=C(1,5)*(P_a_k**1)*((1-P_a_k)**(5-1)) # Вероятность одного туза в 5 картах равна вероятности одного короля в 5 картах (по формуле Бернулли)\n",
        "print('Вероятность появления в 5 сданных картах одного туза и одного короля составляет ', P_a_k_5**2)"
      ],
      "execution_count": null,
      "outputs": [
        {
          "output_type": "stream",
          "text": [
            "Вероятность появления в 5 сданных картах одного туза и одного короля составляет  0.12029146392868698\n"
          ],
          "name": "stdout"
        }
      ]
    },
    {
      "cell_type": "markdown",
      "metadata": {
        "id": "urJ5XX4JhaUI"
      },
      "source": [
        "Задача 4\n",
        "\n",
        "В ящике находится 17 качественных и 6 бракованных деталей. Наудачу извлекаются 2 детали. Найти вероятность того, что:\n",
        "\n",
        "a) обе детали будут качественными;\n",
        "b) одна деталь будет качественной, а одна – бракованной;\n",
        "c) обе детали бракованны."
      ]
    },
    {
      "cell_type": "code",
      "metadata": {
        "id": "QlZHgbZXumol",
        "colab": {
          "base_uri": "https://localhost:8080/",
          "height": 68
        },
        "outputId": "edf67e17-a571-4067-d774-d40d3e1a41b5"
      },
      "source": [
        "P_a=P(17,23)**2\n",
        "P_b=P(17,23)*P(6,23)*2\n",
        "P_c=1-P_a-P_b\n",
        "print(P_a, P_b, P_c, sep='\\n')"
      ],
      "execution_count": null,
      "outputs": [
        {
          "output_type": "stream",
          "text": [
            "0.546313799621928\n",
            "0.385633270321361\n",
            "0.06805293005671093\n"
          ],
          "name": "stdout"
        }
      ]
    },
    {
      "cell_type": "markdown",
      "metadata": {
        "id": "d593HPt0kH1f"
      },
      "source": [
        "Задача 5\n",
        "\n",
        "Какова вероятность того что первый рабочий день месяца выпадет на понедельник"
      ]
    },
    {
      "cell_type": "code",
      "metadata": {
        "id": "SCEv66vJunJl",
        "colab": {
          "base_uri": "https://localhost:8080/",
          "height": 34
        },
        "outputId": "a72b21cf-f564-416c-d3b9-025a282452b4"
      },
      "source": [
        "P(1,5)"
      ],
      "execution_count": null,
      "outputs": [
        {
          "output_type": "execute_result",
          "data": {
            "text/plain": [
              "0.2"
            ]
          },
          "metadata": {
            "tags": []
          },
          "execution_count": 32
        }
      ]
    },
    {
      "cell_type": "markdown",
      "metadata": {
        "id": "2s1EPIzqkPPH"
      },
      "source": [
        "Задача 6\n",
        "\n",
        "Интревал движения трамвая с остановки N 15 минут, тогда как интервал движения автобуса 7 минут. Вы подошли к остановке в произвольный момент времени.\n",
        "\n",
        "a) Какова вероятность прождать автобус не более 3 минут\n",
        "b) Уехать с остановки без ожидания"
      ]
    },
    {
      "cell_type": "code",
      "metadata": {
        "id": "aAT-pMbyuneO",
        "colab": {
          "base_uri": "https://localhost:8080/",
          "height": 51
        },
        "outputId": "e10139b8-6fe7-4359-af76-3f3097d10ac9"
      },
      "source": [
        "P_a=P(3,7)\n",
        "P_b=P(1,7)+P(1,15)\n",
        "print(P_a, P_b, sep='\\n')"
      ],
      "execution_count": null,
      "outputs": [
        {
          "output_type": "stream",
          "text": [
            "0.42857142857142855\n",
            "0.2095238095238095\n"
          ],
          "name": "stdout"
        }
      ]
    },
    {
      "cell_type": "markdown",
      "metadata": {
        "id": "wCYln_QKlb2B"
      },
      "source": [
        "Задача 7\n",
        "\n",
        "Вероятность поражения цели первым стрелком при одном выстреле равна 0,6. Вероятность того, что цель не поражена после выполнения первым и вторым стрелками по одному выстрелу равна 0,06. Какова вероятность поражения цели вторым стрелком при одном выстреле?"
      ]
    },
    {
      "cell_type": "code",
      "metadata": {
        "id": "lPqUyxnuun_K",
        "colab": {
          "base_uri": "https://localhost:8080/",
          "height": 34
        },
        "outputId": "10180c27-22c4-4ce5-ddba-081e59ed57e9"
      },
      "source": [
        "P1=0.6\n",
        "P=0.06\n",
        "# P=(1-P1)*(1-P2) Вероятность, что ни один из стрелков не попадет\n",
        "P2=1-(P/(1-P1))\n",
        "print('Вероятность поражения цели вторым стрелком равна ',P2)\n"
      ],
      "execution_count": null,
      "outputs": [
        {
          "output_type": "stream",
          "text": [
            "Вероятность поражения цели вторым стрелком равна  0.85\n"
          ],
          "name": "stdout"
        }
      ]
    }
  ]
}