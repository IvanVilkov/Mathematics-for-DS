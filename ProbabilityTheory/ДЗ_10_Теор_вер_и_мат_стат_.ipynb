{
  "nbformat": 4,
  "nbformat_minor": 0,
  "metadata": {
    "colab": {
      "name": "ДЗ 10. Теор. вер. и мат. стат.",
      "provenance": [],
      "collapsed_sections": []
    },
    "kernelspec": {
      "name": "python3",
      "display_name": "Python 3"
    }
  },
  "cells": [
    {
      "cell_type": "markdown",
      "metadata": {
        "id": "1wv0l1qohTJQ"
      },
      "source": [
        "\n",
        "#**Light**"
      ]
    },
    {
      "cell_type": "markdown",
      "metadata": {
        "id": "YOsYgqlu62Ka"
      },
      "source": [
        "Задача 1\n",
        "\n",
        "Вероятность того, что стрелок поразит мишень, равна 0.7 \n",
        "\n",
        "Составить закон распределения случайной величины  W – количества попаданий после 2 выстрелов."
      ]
    },
    {
      "cell_type": "code",
      "metadata": {
        "id": "-i-9YyqYeiSb"
      },
      "source": [
        "import numpy as np\n",
        "import matplotlib.pyplot as plt\n",
        "from scipy.stats import norm,uniform"
      ],
      "execution_count": null,
      "outputs": []
    },
    {
      "cell_type": "code",
      "metadata": {
        "id": "duefd2xSZPou",
        "colab": {
          "base_uri": "https://localhost:8080/"
        },
        "outputId": "c773106e-3bfa-4b70-befc-9131381b85c6"
      },
      "source": [
        "Var1=0.3**2          # 0 попаданий\n",
        "Var2=0.3*0.7+0.7*0.3 # 1 попадание\n",
        "Var3=0.7*0.7         # 2 попадания\n",
        "target={0:Var1, 1:Var2, 2:Var3}\n",
        "target\n"
      ],
      "execution_count": null,
      "outputs": [
        {
          "output_type": "execute_result",
          "data": {
            "text/plain": [
              "{0: 0.09, 1: 0.42, 2: 0.48999999999999994}"
            ]
          },
          "metadata": {
            "tags": []
          },
          "execution_count": 11
        }
      ]
    },
    {
      "cell_type": "markdown",
      "metadata": {
        "id": "fGA0UUgp62KF"
      },
      "source": [
        "Задача 2\n",
        "\n",
        "Мистер Хэ играет в европейскую рулетку по следующей системе: постоянно ставит 250 рублей на «красное». \n",
        "Составить закон распределения случайной величины  – его выигрыша. \n",
        "\n",
        "Вычислить математическое ожидание выигрыша и округлить его. "
      ]
    },
    {
      "cell_type": "code",
      "metadata": {
        "id": "PQp-ln12g-YB",
        "colab": {
          "base_uri": "https://localhost:8080/",
          "height": 34
        },
        "outputId": "d0f4cb19-9b7b-46c2-ac49-21efe05ef35d"
      },
      "source": [
        "wins={0:19/37, 250:18/37} # распределение выигрыша\n",
        "W=round(sum([wins[a]*a for a in wins.keys()]), 0) # мат ожидание\n",
        "W"
      ],
      "execution_count": null,
      "outputs": [
        {
          "output_type": "execute_result",
          "data": {
            "text/plain": [
              "122.0"
            ]
          },
          "metadata": {
            "tags": []
          },
          "execution_count": 21
        }
      ]
    },
    {
      "cell_type": "markdown",
      "metadata": {
        "id": "aorqGTJsSfbU"
      },
      "source": [
        "Задача 3\n",
        "\n",
        "Случайная величина  ошибки взвешивания распределена по нормальному закону с нулевым математическим ожиданием и стандартным отклонением 4 грамма. Найти вероятность того, что очередное взвешивание будет проведено с ошибкой, не превышающей по модулю 6 грамм."
      ]
    },
    {
      "cell_type": "code",
      "metadata": {
        "id": "9s8a3ePFXzUx",
        "colab": {
          "base_uri": "https://localhost:8080/",
          "height": 34
        },
        "outputId": "39e0ec64-3990-47a9-83e3-6f0f2bfb0a8c"
      },
      "source": [
        "weight=norm(loc=0, scale=4)\n",
        "weight.cdf(6)-weight.cdf(4)"
      ],
      "execution_count": null,
      "outputs": [
        {
          "output_type": "execute_result",
          "data": {
            "text/plain": [
              "0.09184805266259899"
            ]
          },
          "metadata": {
            "tags": []
          },
          "execution_count": 3
        }
      ]
    },
    {
      "cell_type": "markdown",
      "metadata": {
        "id": "7_qLtF8lSfbS"
      },
      "source": [
        "Задача 4\n",
        "\n",
        "Автобусы некоторого маршрута идут строго по расписанию и интервалом 5 минут. Составить функцию плотности случайной величины  X – времени ожидании очередного автобуса пассажиром, который наудачу подошёл к остановке. Найти вероятность того, что он будет ждать автобус не более 2x минут. "
      ]
    },
    {
      "cell_type": "code",
      "metadata": {
        "id": "XjU9Qrf6EUWk",
        "colab": {
          "base_uri": "https://localhost:8080/",
          "height": 34
        },
        "outputId": "89f181f3-0edc-447c-e794-bd9cda82141c"
      },
      "source": [
        "f = uniform(loc=0, scale=5)\n",
        "print(\"Вероятность того, что пассажир будет ждать не более 2х минут: {}\".format(f.cdf(2)))\n"
      ],
      "execution_count": null,
      "outputs": [
        {
          "output_type": "stream",
          "text": [
            "Вероятность того, что пассажир будет ждать не более 2х минут: 0.4\n"
          ],
          "name": "stdout"
        }
      ]
    },
    {
      "cell_type": "markdown",
      "metadata": {
        "id": "5h93QaZHSfbR"
      },
      "source": [
        "Задача 5\n",
        "\n",
        "Рост мальчиков возрастной группы 15 лет есть нормально распределённая\n",
        "случайная величина X с мат.ожиданием роста 161 см и среднеквадратичным отклонением 4 см. Какую долю костюмов для мальчиков, имеющих рост от 152 до 158 см, нужно предусмотреть в объёме производства для данной возрастной группы. \n"
      ]
    },
    {
      "cell_type": "code",
      "metadata": {
        "id": "nI6HzbEfxzk1",
        "colab": {
          "base_uri": "https://localhost:8080/",
          "height": 34
        },
        "outputId": "fffc3c8a-88e7-4fbe-89fa-ce0aff38e5b6"
      },
      "source": [
        "suit=norm(loc=161,scale=4)\n",
        "print('Доля костюмов для мальчиков с ростом от 152 до 158 в объеме производства ', int((suit.cdf(158)-suit.cdf(152))*100),'%')"
      ],
      "execution_count": null,
      "outputs": [
        {
          "output_type": "stream",
          "text": [
            "Доля костюмов для мальчиков с ростом от 152 до 158 в объеме производства  21 %\n"
          ],
          "name": "stdout"
        }
      ]
    },
    {
      "cell_type": "markdown",
      "metadata": {
        "id": "ONzs9LiZnuKP"
      },
      "source": [
        "#**Pro 1**"
      ]
    },
    {
      "cell_type": "markdown",
      "metadata": {
        "id": "xpHJ2--1SfbK"
      },
      "source": [
        "Задача 6\n",
        "\n",
        "На машиностроительном заводе в процессе производства за неделю обнаруживается, в среднем, 100 бракованных деталей, со среднеквадричным отклонением равным 12 деталям. \n",
        "Рассчитать: \n",
        "1)\n",
        "Вероятность того, что за неделю будет 20-30 бракованных деталей\n",
        "2)\n",
        "Вероятность того, что за день будет хотя бы одна забракованная деталь."
      ]
    },
    {
      "cell_type": "code",
      "metadata": {
        "id": "9vMyo4cYz9jf",
        "colab": {
          "base_uri": "https://localhost:8080/",
          "height": 51
        },
        "outputId": "48a16ec0-ef6e-4daa-8fc3-749be4b604ed"
      },
      "source": [
        "details=norm(loc=100, scale=12)\n",
        "details_day=norm(loc=100/7, scale=12/7)\n",
        "print('Вероятность того, что за неделю будет 20-30 бракованных деталей ', details.cdf(30)-details.cdf(20))\n",
        "print('Вероятность того, что за день будет хотя  бы одна забракованная деталь ', 1-details_day.cdf(1))\n"
      ],
      "execution_count": null,
      "outputs": [
        {
          "output_type": "stream",
          "text": [
            "Вероятность того, что за неделю будет 20-30 бракованных деталей  2.7034598124020633e-09\n",
            "Вероятность того, что за день будет хотя  бы одна забракованная деталь  0.9999999999999954\n"
          ],
          "name": "stdout"
        }
      ]
    },
    {
      "cell_type": "markdown",
      "metadata": {
        "id": "jzFl81l4SfbG"
      },
      "source": [
        "Задача 7\n",
        "\n",
        "Для задач 3 - 6 Вычислить среднее, дисперсию и 0.25 и 0.9 перцентили"
      ]
    },
    {
      "cell_type": "code",
      "metadata": {
        "id": "byjm0mXD94Y8",
        "colab": {
          "base_uri": "https://localhost:8080/",
          "height": 340
        },
        "outputId": "39ca2dc4-edf4-4b81-add3-73ab117cc898"
      },
      "source": [
        "print('Для задачи 3')\n",
        "print('среднее',weight.mean())\n",
        "print('дисперсия',weight.var())\n",
        "print('квантиль 0.25 - ',weight.ppf(0.25), 'квантиль 0.9 - ',weight.ppf(0.9))\n",
        "print('\\nДля задачи 4')\n",
        "print('среднее',f.mean())\n",
        "print('дисперсия',f.var())\n",
        "print('квантиль 0.25 - ',f.ppf(0.25), 'квантиль 0.9 - ',f.ppf(0.9))\n",
        "print('\\nДля задачи 5')\n",
        "print('среднее',suit.mean())\n",
        "print('дисперсия',suit.var())\n",
        "print('квантиль 0.25 - ',suit.ppf(0.25), 'квантиль 0.9 - ',suit.ppf(0.9))\n",
        "print('\\nДля задачи 6')\n",
        "print('среднее',details.mean())\n",
        "print('дисперсия',details.var())\n",
        "print('квантиль 0.25 - ',details.ppf(0.25), 'квантиль 0.9 - ',details.ppf(0.9))"
      ],
      "execution_count": null,
      "outputs": [
        {
          "output_type": "stream",
          "text": [
            "Для задачи 3\n",
            "среднее 0.0\n",
            "дисперсия 16.0\n",
            "квантиль 0.25 -  -2.697959000784327 квантиль 0.9 -  5.1262062621784015\n",
            "\n",
            "Для задачи 4\n",
            "среднее 2.5\n",
            "дисперсия 2.083333333333333\n",
            "квантиль 0.25 -  1.25 квантиль 0.9 -  4.5\n",
            "\n",
            "Для задачи 5\n",
            "среднее 161.0\n",
            "дисперсия 16.0\n",
            "квантиль 0.25 -  158.30204099921568 квантиль 0.9 -  166.1262062621784\n",
            "\n",
            "Для задачи 6\n",
            "среднее 100.0\n",
            "дисперсия 144.0\n",
            "квантиль 0.25 -  91.90612299764702 квантиль 0.9 -  115.3786187865352\n"
          ],
          "name": "stdout"
        }
      ]
    },
    {
      "cell_type": "markdown",
      "metadata": {
        "id": "gaS3KFDGSfbD"
      },
      "source": [
        "Задача 8\n",
        "\n",
        "Для задач 3 - 6 Построить графики cdf и pdf"
      ]
    },
    {
      "cell_type": "code",
      "metadata": {
        "id": "qTDCSH56AJPm",
        "colab": {
          "base_uri": "https://localhost:8080/",
          "height": 545
        },
        "outputId": "5db3e29e-b570-40fd-e9de-e73ee33dbb09"
      },
      "source": [
        "\n",
        "# Для задачи 3. \n",
        "# Интервал для 95% вероятности\n",
        "low_end_3 = weight.ppf(0.025)\n",
        "high_end_3 = weight.ppf(0.975)\n",
        "#  pdf\n",
        "values_3 = np.linspace(low_end_3, high_end_3, 100)\n",
        "probabilities_3 = weight.pdf(values_3)\n",
        "plt.plot(values_3, probabilities_3)\n",
        "plt.title('График PDF')\n",
        "plt.show()\n",
        "#  cdf\n",
        "cprobs_3 = weight.cdf(values_3)\n",
        "plt.plot(values_3, cprobs_3)\n",
        "plt.title('График CDF')\n",
        "plt.show()\n"
      ],
      "execution_count": null,
      "outputs": [
        {
          "output_type": "display_data",
          "data": {
            "image/png": "[encoded data removed]",
            "text/plain": [
              "<Figure size 432x288 with 1 Axes>"
            ]
          },
          "metadata": {
            "tags": [],
            "needs_background": "light"
          }
        },
        {
          "output_type": "display_data",
          "data": {
            "image/png": "[encoded data removed]",
            "text/plain": [
              "<Figure size 432x288 with 1 Axes>"
            ]
          },
          "metadata": {
            "tags": [],
            "needs_background": "light"
          }
        }
      ]
    },
    {
      "cell_type": "code",
      "metadata": {
        "id": "hnWYrEi5GSNw",
        "colab": {
          "base_uri": "https://localhost:8080/",
          "height": 545
        },
        "outputId": "5f777d0f-a294-45b0-986b-e800c9bc8acc"
      },
      "source": [
        "# Для задачи 4. \n",
        "# Интервал для 95% вероятности\n",
        "low_end_4 = f.ppf(0.025)\n",
        "high_end_4 = f.ppf(0.975)\n",
        "#  pdf\n",
        "values_4 = np.linspace(low_end_4, high_end_4, 100)\n",
        "probabilities_4 = f.pdf(values_4)\n",
        "plt.plot(values_4, probabilities_4)\n",
        "plt.title('График PDF')\n",
        "plt.show()\n",
        "#  cdf\n",
        "cprobs_4 = f.cdf(values_4)\n",
        "plt.plot(values_4, cprobs_4)\n",
        "plt.title('График CDF')\n",
        "plt.show()"
      ],
      "execution_count": null,
      "outputs": [
        {
          "output_type": "display_data",
          "data": {
            "image/png": "[encoded data removed]",
            "text/plain": [
              "<Figure size 432x288 with 1 Axes>"
            ]
          },
          "metadata": {
            "tags": [],
            "needs_background": "light"
          }
        },
        {
          "output_type": "display_data",
          "data": {
            "image/png": "[encoded data removed]",
            "text/plain": [
              "<Figure size 432x288 with 1 Axes>"
            ]
          },
          "metadata": {
            "tags": [],
            "needs_background": "light"
          }
        }
      ]
    },
    {
      "cell_type": "code",
      "metadata": {
        "id": "0Ecosq3NG33k",
        "colab": {
          "base_uri": "https://localhost:8080/",
          "height": 545
        },
        "outputId": "5b49e34a-3372-4d62-9a91-0c2af3319668"
      },
      "source": [
        "# Для задачи 5. \n",
        "# Интервал для 95% вероятности\n",
        "low_end_5 = suit.ppf(0.025)\n",
        "high_end_5 = suit.ppf(0.975)\n",
        "#  pdf\n",
        "values_5 = np.linspace(low_end_5, high_end_5, 100)\n",
        "probabilities_5 = suit.pdf(values_5)\n",
        "plt.plot(values_5, probabilities_5)\n",
        "plt.title('График PDF')\n",
        "plt.show()\n",
        "#  cdf\n",
        "cprobs_5 = suit.cdf(values_5)\n",
        "plt.plot(values_5, cprobs_5)\n",
        "plt.title('График CDF')\n",
        "plt.show()"
      ],
      "execution_count": null,
      "outputs": [
        {
          "output_type": "display_data",
          "data": {
            "image/png": "[encoded data removed]",
            "text/plain": [
              "<Figure size 432x288 with 1 Axes>"
            ]
          },
          "metadata": {
            "tags": [],
            "needs_background": "light"
          }
        },
        {
          "output_type": "display_data",
          "data": {
            "image/png": "[encoded data removed]",
            "text/plain": [
              "<Figure size 432x288 with 1 Axes>"
            ]
          },
          "metadata": {
            "tags": [],
            "needs_background": "light"
          }
        }
      ]
    },
    {
      "cell_type": "code",
      "metadata": {
        "id": "O_rZQQEsG93i",
        "colab": {
          "base_uri": "https://localhost:8080/",
          "height": 545
        },
        "outputId": "082b4104-0a1e-4eed-9b59-961b29c71688"
      },
      "source": [
        "# Для задачи 6. \n",
        "# Интервал для 95% вероятности\n",
        "low_end_6 = details.ppf(0.025)\n",
        "high_end_6 = details.ppf(0.975)\n",
        "#  pdf\n",
        "values_6 = np.linspace(low_end_6, high_end_6, 100)\n",
        "probabilities_6 = details.pdf(values_6)\n",
        "plt.plot(values_6, probabilities_6)\n",
        "plt.title('График PDF')\n",
        "plt.show()\n",
        "#  cdf\n",
        "cprobs_6 = details.cdf(values_6)\n",
        "plt.plot(values_6, cprobs_6)\n",
        "plt.title('График CDF')\n",
        "plt.show()"
      ],
      "execution_count": null,
      "outputs": [
        {
          "output_type": "display_data",
          "data": {
            "image/png": "[encoded data removed]",
            "text/plain": [
              "<Figure size 432x288 with 1 Axes>"
            ]
          },
          "metadata": {
            "tags": [],
            "needs_background": "light"
          }
        },
        {
          "output_type": "display_data",
          "data": {
            "image/png": "[encoded data removed]",
            "text/plain": [
              "<Figure size 432x288 with 1 Axes>"
            ]
          },
          "metadata": {
            "tags": [],
            "needs_background": "light"
          }
        }
      ]
    },
    {
      "cell_type": "markdown",
      "metadata": {
        "id": "urJ5XX4JhaUI"
      },
      "source": [
        "Задача 9\n",
        "\n",
        "В ящике находится 17 качественных и 6 бракованных деталей. Наудачу извлекаются 2 детали. Найти вероятность того, что:\n",
        "\n",
        "a) обе детали будут качественными;\n",
        "b) одна деталь будет качественной, а одна – бракованной;\n",
        "c) обе детали бракованны."
      ]
    },
    {
      "cell_type": "code",
      "metadata": {
        "id": "T37FZ-rGHndm",
        "colab": {
          "base_uri": "https://localhost:8080/",
          "height": 68
        },
        "outputId": "b8735e29-2a15-4795-ace8-ea5c5744b01f"
      },
      "source": [
        "P_a = 17/23*16/22\n",
        "P_b = 17/23*6/22+6/23*17/22\n",
        "P_c = 6/23*5/22\n",
        "print('Вероятность, что две детали будут качественными ',P_a), P_b, P_c\n",
        "print('Вероятность, что одна деталь будет качественной, а другая бракованной ',P_b)\n",
        "print('Вероятность, что две детали будут бракованными ',P_c)"
      ],
      "execution_count": null,
      "outputs": [
        {
          "output_type": "stream",
          "text": [
            "Вероятность, что две детали будут качественными  0.5375494071146245\n",
            "Вероятность, что одна деталь будет качественной, а другая бракованной  0.4031620553359684\n",
            "Вероятность, что две детали будут бракованными  0.05928853754940711\n"
          ],
          "name": "stdout"
        }
      ]
    }
  ]
}